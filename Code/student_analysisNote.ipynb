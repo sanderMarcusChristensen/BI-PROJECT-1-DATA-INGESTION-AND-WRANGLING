{
 "cells": [
  {
   "cell_type": "markdown",
   "id": "9e22e1c3",
   "metadata": {},
   "source": [
    "# Student Data Analysis Project\n",
    "\n",
    "This project involves loading, cleaning, and analyzing student data stored in a JSON file. The task includes:\n",
    "- Data ingestion from JSON format\n",
    "- Data exploration and cleaning\n",
    "- Creating visualizations such as age distribution and student activity status\n",
    "\n",
    "The required libraries for this project are: `pandas`, `matplotlib`, `seaborn`, and `os`.\n"
   ]
  },
  {
   "cell_type": "code",
   "execution_count": 27,
   "id": "e55ecc8a",
   "metadata": {},
   "outputs": [],
   "source": [
    "# Import libraries\n",
    "import pandas as pd\n",
    "import matplotlib.pyplot as plt\n",
    "import seaborn as sns\n",
    "import os"
   ]
  },
  {
   "cell_type": "markdown",
   "id": "31458f4d",
   "metadata": {},
   "source": [
    "## Step 1: Load the Data\n",
    "We will load the student data from a JSON file and look at the first few rows to understand its structure."
   ]
  },
  {
   "cell_type": "code",
   "execution_count": 28,
   "id": "5422723c",
   "metadata": {},
   "outputs": [
    {
     "data": {
      "text/html": [
       "<div>\n",
       "<style scoped>\n",
       "    .dataframe tbody tr th:only-of-type {\n",
       "        vertical-align: middle;\n",
       "    }\n",
       "\n",
       "    .dataframe tbody tr th {\n",
       "        vertical-align: top;\n",
       "    }\n",
       "\n",
       "    .dataframe thead th {\n",
       "        text-align: right;\n",
       "    }\n",
       "</style>\n",
       "<table border=\"1\" class=\"dataframe\">\n",
       "  <thead>\n",
       "    <tr style=\"text-align: right;\">\n",
       "      <th></th>\n",
       "      <th>id</th>\n",
       "      <th>name</th>\n",
       "      <th>email</th>\n",
       "      <th>age</th>\n",
       "      <th>gender</th>\n",
       "      <th>grades</th>\n",
       "      <th>courses</th>\n",
       "      <th>active</th>\n",
       "    </tr>\n",
       "  </thead>\n",
       "  <tbody>\n",
       "    <tr>\n",
       "      <th>0</th>\n",
       "      <td>101</td>\n",
       "      <td>Emma Nielsen</td>\n",
       "      <td>emma.nielsen@example.com</td>\n",
       "      <td>21</td>\n",
       "      <td>Female</td>\n",
       "      <td>{'math': 88, 'english': 92, 'science': 85}</td>\n",
       "      <td>[Math, English, Science]</td>\n",
       "      <td>True</td>\n",
       "    </tr>\n",
       "    <tr>\n",
       "      <th>1</th>\n",
       "      <td>102</td>\n",
       "      <td>Lucas Hansen</td>\n",
       "      <td>lucas.hansen@example.com</td>\n",
       "      <td>24</td>\n",
       "      <td>Male</td>\n",
       "      <td>{'math': 76, 'english': 70, 'science': 80}</td>\n",
       "      <td>[Math, Science]</td>\n",
       "      <td>False</td>\n",
       "    </tr>\n",
       "    <tr>\n",
       "      <th>2</th>\n",
       "      <td>103</td>\n",
       "      <td>Ida Sørensen</td>\n",
       "      <td>ida.sorensen@example.com</td>\n",
       "      <td>22</td>\n",
       "      <td>Female</td>\n",
       "      <td>{'math': 95, 'english': 98, 'science': 90}</td>\n",
       "      <td>[English, Science]</td>\n",
       "      <td>True</td>\n",
       "    </tr>\n",
       "    <tr>\n",
       "      <th>3</th>\n",
       "      <td>104</td>\n",
       "      <td>Noah Jensen</td>\n",
       "      <td>noah.jensen@example.com</td>\n",
       "      <td>23</td>\n",
       "      <td>Male</td>\n",
       "      <td>{'math': 60, 'english': 65, 'science': 58}</td>\n",
       "      <td>[Math, English]</td>\n",
       "      <td>False</td>\n",
       "    </tr>\n",
       "    <tr>\n",
       "      <th>4</th>\n",
       "      <td>105</td>\n",
       "      <td>Freja Madsen</td>\n",
       "      <td>freja.madsen@example.com</td>\n",
       "      <td>20</td>\n",
       "      <td>Female</td>\n",
       "      <td>{'math': 89, 'english': 91, 'science': 87}</td>\n",
       "      <td>[Math, English, Science]</td>\n",
       "      <td>True</td>\n",
       "    </tr>\n",
       "  </tbody>\n",
       "</table>\n",
       "</div>"
      ],
      "text/plain": [
       "    id          name                     email  age  gender  \\\n",
       "0  101  Emma Nielsen  emma.nielsen@example.com   21  Female   \n",
       "1  102  Lucas Hansen  lucas.hansen@example.com   24    Male   \n",
       "2  103  Ida Sørensen  ida.sorensen@example.com   22  Female   \n",
       "3  104   Noah Jensen   noah.jensen@example.com   23    Male   \n",
       "4  105  Freja Madsen  freja.madsen@example.com   20  Female   \n",
       "\n",
       "                                       grades                   courses  \\\n",
       "0  {'math': 88, 'english': 92, 'science': 85}  [Math, English, Science]   \n",
       "1  {'math': 76, 'english': 70, 'science': 80}           [Math, Science]   \n",
       "2  {'math': 95, 'english': 98, 'science': 90}        [English, Science]   \n",
       "3  {'math': 60, 'english': 65, 'science': 58}           [Math, English]   \n",
       "4  {'math': 89, 'english': 91, 'science': 87}  [Math, English, Science]   \n",
       "\n",
       "   active  \n",
       "0    True  \n",
       "1   False  \n",
       "2    True  \n",
       "3   False  \n",
       "4    True  "
      ]
     },
     "execution_count": 28,
     "metadata": {},
     "output_type": "execute_result"
    }
   ],
   "source": [
    "# Load data from the JSON file\n",
    "df = pd.read_json('../Data/Json_data.json')\n",
    "\n",
    "# Show a preview of the data\n",
    "df.head()"
   ]
  },
  {
   "cell_type": "markdown",
   "id": "56df37aa",
   "metadata": {},
   "source": [
    "## Step 2: Create Folder for Visuals\n",
    "We will save our plots in a folder called \"Visuals\". Let's make sure this folder exists."
   ]
  },
  {
   "cell_type": "code",
   "execution_count": 29,
   "id": "13f0870d",
   "metadata": {},
   "outputs": [],
   "source": [
    "# Create 'Visuals' folder if it doesn't exist\n",
    "if not os.path.exists('Visuals'):\n",
    "    os.makedirs('Visuals')"
   ]
  },
  {
   "cell_type": "markdown",
   "id": "40c9a084",
   "metadata": {},
   "source": [
    "## Step 3: Visualize Age Distribution\n",
    "Let's plot a simple histogram to show how old the students are."
   ]
  },
  {
   "cell_type": "code",
   "execution_count": 30,
   "id": "e31f3b81",
   "metadata": {},
   "outputs": [
    {
     "data": {
      "image/png": "[encoded data removed]",
      "text/plain": [
       "<Figure size 600x400 with 1 Axes>"
      ]
     },
     "metadata": {},
     "output_type": "display_data"
    }
   ],
   "source": [
    "# Plot Age Distribution (Histogram)\n",
    "plt.figure(figsize=(6,4))\n",
    "sns.histplot(df['age'], kde=True, bins=5)\n",
    "plt.title('Student Age Distribution')\n",
    "plt.xlabel('Age')\n",
    "plt.ylabel('Count')\n",
    "plt.tight_layout()\n",
    "plt.savefig('Visuals/age_distribution.png')  # Save plot in 'Visuals' folder\n",
    "plt.show()  # Display the plot"
   ]
  },
  {
   "cell_type": "markdown",
   "id": "ab89ea70",
   "metadata": {},
   "source": [
    "## Step 4: Visualize Active vs Inactive Students\n",
    "We will create a simple plot to show how many students are active vs inactive."
   ]
  },
  {
   "cell_type": "code",
   "execution_count": 31,
   "id": "a7498210",
   "metadata": {},
   "outputs": [
    {
     "data": {
      "image/png": "[encoded data removed]",
      "text/plain": [
       "<Figure size 400x300 with 1 Axes>"
      ]
     },
     "metadata": {},
     "output_type": "display_data"
    }
   ],
   "source": [
    "# Plot Active vs Inactive Students\n",
    "plt.figure(figsize=(4,3))\n",
    "sns.countplot(x='active', data=df)\n",
    "plt.title('Active vs Inactive Students')\n",
    "plt.tight_layout()\n",
    "plt.savefig('Visuals/active_status.png')  # Save plot in 'Visuals' folder\n",
    "plt.show()  # Display the plot"
   ]
  },
  {
   "cell_type": "markdown",
   "id": "62bdcb06",
   "metadata": {},
   "source": [
    "## Step 5: Define a Function to Load JSON\n",
    "Let’s define a function that can load data from a JSON file and return it as a pandas DataFrame."
   ]
  },
  {
   "cell_type": "code",
   "execution_count": 32,
   "id": "c8b840dd",
   "metadata": {},
   "outputs": [],
   "source": [
    "import json\n",
    "\n",
    "def load_json(filepath):\n",
    "    \"\"\"\n",
    "    Loads the JSON data and returns it as a pandas DataFrame.\n",
    "    \"\"\"\n",
    "    with open(filepath, 'r') as file:\n",
    "        data = json.load(file)\n",
    "    \n",
    "    # Flatten the JSON data if needed\n",
    "    df = pd.json_normalize(data)\n",
    "    return df\n"
   ]
  },
  {
   "cell_type": "markdown",
   "id": "d04e47cc",
   "metadata": {},
   "source": [
    "## Step 6: Test the Load JSON Function\n",
    "Let's use the function to load the data and check if it works correctly."
   ]
  },
  {
   "cell_type": "code",
   "execution_count": 33,
   "id": "c84d1d71",
   "metadata": {},
   "outputs": [
    {
     "data": {
      "text/html": [
       "<div>\n",
       "<style scoped>\n",
       "    .dataframe tbody tr th:only-of-type {\n",
       "        vertical-align: middle;\n",
       "    }\n",
       "\n",
       "    .dataframe tbody tr th {\n",
       "        vertical-align: top;\n",
       "    }\n",
       "\n",
       "    .dataframe thead th {\n",
       "        text-align: right;\n",
       "    }\n",
       "</style>\n",
       "<table border=\"1\" class=\"dataframe\">\n",
       "  <thead>\n",
       "    <tr style=\"text-align: right;\">\n",
       "      <th></th>\n",
       "      <th>id</th>\n",
       "      <th>name</th>\n",
       "      <th>email</th>\n",
       "      <th>age</th>\n",
       "      <th>gender</th>\n",
       "      <th>grades</th>\n",
       "      <th>courses</th>\n",
       "      <th>active</th>\n",
       "    </tr>\n",
       "  </thead>\n",
       "  <tbody>\n",
       "    <tr>\n",
       "      <th>0</th>\n",
       "      <td>101</td>\n",
       "      <td>Emma Nielsen</td>\n",
       "      <td>emma.nielsen@example.com</td>\n",
       "      <td>21</td>\n",
       "      <td>Female</td>\n",
       "      <td>{'math': 88, 'english': 92, 'science': 85}</td>\n",
       "      <td>[Math, English, Science]</td>\n",
       "      <td>True</td>\n",
       "    </tr>\n",
       "    <tr>\n",
       "      <th>1</th>\n",
       "      <td>102</td>\n",
       "      <td>Lucas Hansen</td>\n",
       "      <td>lucas.hansen@example.com</td>\n",
       "      <td>24</td>\n",
       "      <td>Male</td>\n",
       "      <td>{'math': 76, 'english': 70, 'science': 80}</td>\n",
       "      <td>[Math, Science]</td>\n",
       "      <td>False</td>\n",
       "    </tr>\n",
       "    <tr>\n",
       "      <th>2</th>\n",
       "      <td>103</td>\n",
       "      <td>Ida Sørensen</td>\n",
       "      <td>ida.sorensen@example.com</td>\n",
       "      <td>22</td>\n",
       "      <td>Female</td>\n",
       "      <td>{'math': 95, 'english': 98, 'science': 90}</td>\n",
       "      <td>[English, Science]</td>\n",
       "      <td>True</td>\n",
       "    </tr>\n",
       "    <tr>\n",
       "      <th>3</th>\n",
       "      <td>104</td>\n",
       "      <td>Noah Jensen</td>\n",
       "      <td>noah.jensen@example.com</td>\n",
       "      <td>23</td>\n",
       "      <td>Male</td>\n",
       "      <td>{'math': 60, 'english': 65, 'science': 58}</td>\n",
       "      <td>[Math, English]</td>\n",
       "      <td>False</td>\n",
       "    </tr>\n",
       "    <tr>\n",
       "      <th>4</th>\n",
       "      <td>105</td>\n",
       "      <td>Freja Madsen</td>\n",
       "      <td>freja.madsen@example.com</td>\n",
       "      <td>20</td>\n",
       "      <td>Female</td>\n",
       "      <td>{'math': 89, 'english': 91, 'science': 87}</td>\n",
       "      <td>[Math, English, Science]</td>\n",
       "      <td>True</td>\n",
       "    </tr>\n",
       "  </tbody>\n",
       "</table>\n",
       "</div>"
      ],
      "text/plain": [
       "    id          name                     email  age  gender  \\\n",
       "0  101  Emma Nielsen  emma.nielsen@example.com   21  Female   \n",
       "1  102  Lucas Hansen  lucas.hansen@example.com   24    Male   \n",
       "2  103  Ida Sørensen  ida.sorensen@example.com   22  Female   \n",
       "3  104   Noah Jensen   noah.jensen@example.com   23    Male   \n",
       "4  105  Freja Madsen  freja.madsen@example.com   20  Female   \n",
       "\n",
       "                                       grades                   courses  \\\n",
       "0  {'math': 88, 'english': 92, 'science': 85}  [Math, English, Science]   \n",
       "1  {'math': 76, 'english': 70, 'science': 80}           [Math, Science]   \n",
       "2  {'math': 95, 'english': 98, 'science': 90}        [English, Science]   \n",
       "3  {'math': 60, 'english': 65, 'science': 58}           [Math, English]   \n",
       "4  {'math': 89, 'english': 91, 'science': 87}  [Math, English, Science]   \n",
       "\n",
       "   active  \n",
       "0    True  \n",
       "1   False  \n",
       "2    True  \n",
       "3   False  \n",
       "4    True  "
      ]
     },
     "execution_count": 33,
     "metadata": {},
     "output_type": "execute_result"
    }
   ],
   "source": [
    "# Load data using the custom function\n",
    "df = pd.read_json('../Data/Json_data.json')\n",
    "\n",
    "# Show the first few rows of the data\n",
    "df.head()"
   ]
  },
  {
   "cell_type": "markdown",
   "id": "53fe22f8",
   "metadata": {},
   "source": [
    "## Conclusion\n",
    "We have loaded the data, created visualizations, and stored them in the \"Visuals\" folder. The notebook demonstrates how to work with JSON data and create simple plots using pandas and seaborn.\n"
   ]
  }
 ],
 "metadata": {
  "kernelspec": {
   "display_name": "base",
   "language": "python",
   "name": "python3"
  },
  "language_info": {
   "codemirror_mode": {
    "name": "ipython",
    "version": 3
   },
   "file_extension": ".py",
   "mimetype": "text/x-python",
   "name": "python",
   "nbconvert_exporter": "python",
   "pygments_lexer": "ipython3",
   "version": "3.12.7"
  }
 },
 "nbformat": 4,
 "nbformat_minor": 5
}
