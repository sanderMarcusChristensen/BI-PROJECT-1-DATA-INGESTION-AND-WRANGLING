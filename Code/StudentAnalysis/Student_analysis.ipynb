{
 "cells": [
  {
   "cell_type": "markdown",
   "id": "92e19851",
   "metadata": {},
   "source": [
    "# 📊 Student Data Analysis\n",
    "In this notebook, we'll explore a dataset with information about students.  \n",
    "We'll use Python libraries like **pandas**, **seaborn**, and **matplotlib** to analyze and visualize the data.\n",
    "\n",
    "We are getting data from a custom Json-file found in \"Data\" folder called: \"Json_Data.json\"."
   ]
  },
  {
   "cell_type": "code",
   "execution_count": 60,
   "id": "f1533a46",
   "metadata": {},
   "outputs": [],
   "source": [
    "import pandas as pd\n",
    "import matplotlib.pyplot as plt\n",
    "import seaborn as sns\n",
    "import os\n",
    "import json"
   ]
  },
  {
   "cell_type": "markdown",
   "id": "6bf563ea",
   "metadata": {},
   "source": [
    "# 📥 Load JSON Data\n",
    "We have student data in a JSON file, containing details like names, emails, ages, and courses. To work with this data, we load it into a pandas DataFrame for easier manipulation and analysis.\n",
    "\n",
    "The load_json(filepath) function loads and flattens the JSON data:\n",
    "\n",
    "Open the File: It opens the JSON file and loads the data using json.load().\n",
    "\n",
    "Flatten Data: The data is flattened with pd.json_normalize() to convert nested structures into a table.\n",
    "\n",
    "Return Data: It returns the data as a pandas DataFrame for easy analysis."
   ]
  },
  {
   "cell_type": "code",
   "execution_count": 61,
   "id": "dd9fc855",
   "metadata": {},
   "outputs": [
    {
     "data": {
      "text/html": [
       "<div>\n",
       "<style scoped>\n",
       "    .dataframe tbody tr th:only-of-type {\n",
       "        vertical-align: middle;\n",
       "    }\n",
       "\n",
       "    .dataframe tbody tr th {\n",
       "        vertical-align: top;\n",
       "    }\n",
       "\n",
       "    .dataframe thead th {\n",
       "        text-align: right;\n",
       "    }\n",
       "</style>\n",
       "<table border=\"1\" class=\"dataframe\">\n",
       "  <thead>\n",
       "    <tr style=\"text-align: right;\">\n",
       "      <th></th>\n",
       "      <th>id</th>\n",
       "      <th>name</th>\n",
       "      <th>email</th>\n",
       "      <th>age</th>\n",
       "      <th>gender</th>\n",
       "      <th>courses</th>\n",
       "      <th>active</th>\n",
       "      <th>grades.math</th>\n",
       "      <th>grades.english</th>\n",
       "      <th>grades.science</th>\n",
       "    </tr>\n",
       "  </thead>\n",
       "  <tbody>\n",
       "    <tr>\n",
       "      <th>0</th>\n",
       "      <td>101</td>\n",
       "      <td>Emma Nielsen</td>\n",
       "      <td>emma.nielsen@example.com</td>\n",
       "      <td>21</td>\n",
       "      <td>Female</td>\n",
       "      <td>[Math, English, Science]</td>\n",
       "      <td>True</td>\n",
       "      <td>88</td>\n",
       "      <td>92</td>\n",
       "      <td>85</td>\n",
       "    </tr>\n",
       "    <tr>\n",
       "      <th>1</th>\n",
       "      <td>102</td>\n",
       "      <td>Lucas Hansen</td>\n",
       "      <td>lucas.hansen@example.com</td>\n",
       "      <td>24</td>\n",
       "      <td>Male</td>\n",
       "      <td>[Math, Science]</td>\n",
       "      <td>False</td>\n",
       "      <td>76</td>\n",
       "      <td>70</td>\n",
       "      <td>80</td>\n",
       "    </tr>\n",
       "    <tr>\n",
       "      <th>2</th>\n",
       "      <td>103</td>\n",
       "      <td>Ida Sørensen</td>\n",
       "      <td>ida.sorensen@example.com</td>\n",
       "      <td>22</td>\n",
       "      <td>Female</td>\n",
       "      <td>[English, Science]</td>\n",
       "      <td>True</td>\n",
       "      <td>95</td>\n",
       "      <td>98</td>\n",
       "      <td>90</td>\n",
       "    </tr>\n",
       "    <tr>\n",
       "      <th>3</th>\n",
       "      <td>104</td>\n",
       "      <td>Noah Jensen</td>\n",
       "      <td>noah.jensen@example.com</td>\n",
       "      <td>23</td>\n",
       "      <td>Male</td>\n",
       "      <td>[Math, English]</td>\n",
       "      <td>False</td>\n",
       "      <td>60</td>\n",
       "      <td>65</td>\n",
       "      <td>58</td>\n",
       "    </tr>\n",
       "    <tr>\n",
       "      <th>4</th>\n",
       "      <td>105</td>\n",
       "      <td>Freja Madsen</td>\n",
       "      <td>freja.madsen@example.com</td>\n",
       "      <td>20</td>\n",
       "      <td>Female</td>\n",
       "      <td>[Math, English, Science]</td>\n",
       "      <td>True</td>\n",
       "      <td>89</td>\n",
       "      <td>91</td>\n",
       "      <td>87</td>\n",
       "    </tr>\n",
       "  </tbody>\n",
       "</table>\n",
       "</div>"
      ],
      "text/plain": [
       "    id          name                     email  age  gender  \\\n",
       "0  101  Emma Nielsen  emma.nielsen@example.com   21  Female   \n",
       "1  102  Lucas Hansen  lucas.hansen@example.com   24    Male   \n",
       "2  103  Ida Sørensen  ida.sorensen@example.com   22  Female   \n",
       "3  104   Noah Jensen   noah.jensen@example.com   23    Male   \n",
       "4  105  Freja Madsen  freja.madsen@example.com   20  Female   \n",
       "\n",
       "                    courses  active  grades.math  grades.english  \\\n",
       "0  [Math, English, Science]    True           88              92   \n",
       "1           [Math, Science]   False           76              70   \n",
       "2        [English, Science]    True           95              98   \n",
       "3           [Math, English]   False           60              65   \n",
       "4  [Math, English, Science]    True           89              91   \n",
       "\n",
       "   grades.science  \n",
       "0              85  \n",
       "1              80  \n",
       "2              90  \n",
       "3              58  \n",
       "4              87  "
      ]
     },
     "execution_count": 61,
     "metadata": {},
     "output_type": "execute_result"
    }
   ],
   "source": [
    "# For loading the JSON data (custom module)\n",
    "def load_json(filepath):\n",
    "    \"\"\"\n",
    "    Loads the JSON data from the given file path and returns it as a pandas DataFrame.\n",
    "    \"\"\"\n",
    "    with open(filepath, 'r') as file:\n",
    "        data = json.load(file)\n",
    "\n",
    "    df = pd.json_normalize(data)\n",
    "    return df\n",
    "\n",
    "\n",
    "# Load the data from JSON file\n",
    "df = load_json('../../Data/Json_data.json')\n",
    "\n",
    "# Show the first 5 rows\n",
    "df.head()"
   ]
  },
  {
   "cell_type": "markdown",
   "id": "78c9c52d",
   "metadata": {},
   "source": [
    "## 📁 Create 'Visuals' Folder\n",
    "We want to save our graphs as image files.  \n",
    "To keep things organized, we’ll save them in a folder called `Visuals`.\n",
    "\n",
    "The code below checks if the folder exists — if not, it creates it."
   ]
  },
  {
   "cell_type": "code",
   "execution_count": 62,
   "id": "85269f85",
   "metadata": {},
   "outputs": [],
   "source": [
    "# Make sure the folder exists for saving graphs\n",
    "if not os.path.exists('../../Visuals'):\n",
    "    os.makedirs('../../Visuals')"
   ]
  },
  {
   "cell_type": "markdown",
   "id": "a020d892",
   "metadata": {},
   "source": [
    "## 📊 Age Distribution\n",
    "We’ll use a bar plot to show the count of students for each age"
   ]
  },
  {
   "cell_type": "code",
   "execution_count": 63,
   "id": "6baf5dd7",
   "metadata": {},
   "outputs": [
    {
     "data": {
      "image/png": "[encoded data removed]",
      "text/plain": [
       "<Figure size 600x400 with 1 Axes>"
      ]
     },
     "metadata": {},
     "output_type": "display_data"
    }
   ],
   "source": [
    "# Count the number of students in each unique age group\n",
    "age_counts = df['age'].value_counts().sort_index()\n",
    "\n",
    "# Create the bar plot\n",
    "plt.figure(figsize=(6,4))\n",
    "\n",
    "# Use barplot, but explicitly pass the correct arguments without 'hue'\n",
    "plt.bar(age_counts.index, age_counts.values, color=sns.color_palette('viridis', len(age_counts.index)))\n",
    "\n",
    "plt.title('Student Age Distribution (Bar Plot)')\n",
    "plt.xlabel('Age')\n",
    "plt.ylabel('Count')\n",
    "plt.tight_layout()\n",
    "\n",
    "# Save the plot\n",
    "plt.savefig('../../Visuals/age_distribution_simple.png')\n",
    "\n",
    "# Show the plot\n",
    "plt.show()\n"
   ]
  },
  {
   "cell_type": "markdown",
   "id": "4bc636e6",
   "metadata": {},
   "source": [
    "## Active vs Inactive Students\n",
    "\n",
    "Next, we will create a visualization to compare the number of active vs inactive students. This will help us see how many students are currently engaged with their studies.\n"
   ]
  },
  {
   "cell_type": "code",
   "execution_count": 64,
   "id": "89513767",
   "metadata": {},
   "outputs": [
    {
     "data": {
      "image/png": "[encoded data removed]",
      "text/plain": [
       "<Figure size 400x300 with 1 Axes>"
      ]
     },
     "metadata": {},
     "output_type": "display_data"
    }
   ],
   "source": [
    "# 2. Active vs Inactive Students (Simple Countplot)\n",
    "plt.figure(figsize=(4,3))\n",
    "sns.countplot(x='active', data=df)\n",
    "plt.title('Active vs Inactive Students')\n",
    "plt.tight_layout()\n",
    "plt.savefig('../../Visuals/active_status.png')\n",
    "plt.show()\n"
   ]
  },
  {
   "cell_type": "markdown",
   "id": "d63c7c62",
   "metadata": {},
   "source": [
    "## Conclusion\n",
    "\n",
    "We have successfully visualized the following:\n",
    "\n",
    "- The distribution of student ages using a simple bar plot.\n",
    "- The comparison of active vs inactive students using a count plot.\n",
    "\n",
    "These visualizations help provide insights into the dataset, making it easier to understand the characteristics of the students."
   ]
  }
 ],
 "metadata": {
  "kernelspec": {
   "display_name": "base",
   "language": "python",
   "name": "python3"
  },
  "language_info": {
   "codemirror_mode": {
    "name": "ipython",
    "version": 3
   },
   "file_extension": ".py",
   "mimetype": "text/x-python",
   "name": "python",
   "nbconvert_exporter": "python",
   "pygments_lexer": "ipython3",
   "version": "3.12.7"
  }
 },
 "nbformat": 4,
 "nbformat_minor": 5
}
